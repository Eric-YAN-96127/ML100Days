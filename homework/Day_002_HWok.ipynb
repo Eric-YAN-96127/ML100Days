{
 "cells": [
  {
   "cell_type": "markdown",
   "metadata": {},
   "source": [
    "## [作業目標]\n",
    "了解機器學習適合應用的領域與範疇。"
   ]
  },
  {
   "cell_type": "markdown",
   "metadata": {},
   "source": [
    "## [作業重點]\n",
    "透過瞭解機器學習的運作方式，找出非常適用機器學習應用的領域及其原因"
   ]
  },
  {
   "cell_type": "markdown",
   "metadata": {},
   "source": [
    "## 作業\n",
    "請找出一個你認為機器學習可以發光發熱的領域並闡述原因? "
   ]
  },
  {
   "cell_type": "code",
   "execution_count": null,
   "metadata": {},
   "outputs": [],
   "source": [
    "自動駕駛領域。\n",
    "在自動駕駛領域中，共分為三大部分，環境、決策及控制。現階段藉由機器學習的發展，使得在環境識別的部分擁有相當大的突破，例如利用Camera進行車輛、\n",
    "道路、行人的識別，透過龐大的標註照片集來訓練感測器對於環境識別的能力，使自駕車能夠更準確地分辨出環境中的各個目標物。此外，現階段也有不少學者\n",
    "著手研究於基於機器學習的自駕車模式，像是蒐集真實的人為操駕情形，藉以訊練自駕車去模仿人為操駕模式等，相關研究十分熱門。"
   ]
  }
 ],
 "metadata": {
  "kernelspec": {
   "display_name": "Python 3",
   "language": "python",
   "name": "python3"
  },
  "language_info": {
   "codemirror_mode": {
    "name": "ipython",
    "version": 3
   },
   "file_extension": ".py",
   "mimetype": "text/x-python",
   "name": "python",
   "nbconvert_exporter": "python",
   "pygments_lexer": "ipython3",
   "version": "3.8.5"
  }
 },
 "nbformat": 4,
 "nbformat_minor": 2
}
